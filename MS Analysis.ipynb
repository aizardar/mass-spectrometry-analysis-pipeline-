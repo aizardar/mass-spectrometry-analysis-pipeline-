{
 "cells": [
  {
   "cell_type": "code",
   "execution_count": 4,
   "metadata": {},
   "outputs": [
    {
     "ename": "FileNotFoundError",
     "evalue": "[Errno 2] No such file or directory: '...\\\\GNPS-NIH-NATURALPRODUCTSLIBRARY.mgf'",
     "output_type": "error",
     "traceback": [
      "\u001b[1;31m---------------------------------------------------------------------------\u001b[0m",
      "\u001b[1;31mFileNotFoundError\u001b[0m                         Traceback (most recent call last)",
      "\u001b[1;32maizardar\\mass-spectrometry-analysis-pipeline-\\MS Analysis.ipynb Cell 1\u001b[0m line \u001b[0;36m6\n\u001b[0;32m      <a href='vscode-notebook-cell://github/aizardar/mass-spectrometry-analysis-pipeline-/MS%20Analysis.ipynb#W2sdnNjb2RlLXZmcw%3D%3D?line=2'>3</a>\u001b[0m path_data \u001b[39m=\u001b[39m \u001b[39m\"\u001b[39m\u001b[39m...\u001b[39m\u001b[39m\"\u001b[39m  \u001b[39m# enter path to downloaded mgf file\u001b[39;00m\n\u001b[0;32m      <a href='vscode-notebook-cell://github/aizardar/mass-spectrometry-analysis-pipeline-/MS%20Analysis.ipynb#W2sdnNjb2RlLXZmcw%3D%3D?line=3'>4</a>\u001b[0m file_mgf \u001b[39m=\u001b[39m os\u001b[39m.\u001b[39mpath\u001b[39m.\u001b[39mjoin(path_data, \n\u001b[0;32m      <a href='vscode-notebook-cell://github/aizardar/mass-spectrometry-analysis-pipeline-/MS%20Analysis.ipynb#W2sdnNjb2RlLXZmcw%3D%3D?line=4'>5</a>\u001b[0m                         \u001b[39m\"\u001b[39m\u001b[39mGNPS-NIH-NATURALPRODUCTSLIBRARY.mgf\u001b[39m\u001b[39m\"\u001b[39m)\n\u001b[1;32m----> <a href='vscode-notebook-cell://github/aizardar/mass-spectrometry-analysis-pipeline-/MS%20Analysis.ipynb#W2sdnNjb2RlLXZmcw%3D%3D?line=5'>6</a>\u001b[0m spectrums \u001b[39m=\u001b[39m \u001b[39mlist\u001b[39m(load_from_mgf(file_mgf))\n",
      "File \u001b[1;32mc:\\Users\\aizardar\\anaconda3\\Lib\\site-packages\\matchms\\importing\\load_from_mgf.py:38\u001b[0m, in \u001b[0;36mload_from_mgf\u001b[1;34m(source, metadata_harmonization)\u001b[0m\n\u001b[0;32m      8\u001b[0m \u001b[39mdef\u001b[39;00m \u001b[39mload_from_mgf\u001b[39m(source: Union[\u001b[39mstr\u001b[39m, TextIO],\n\u001b[0;32m      9\u001b[0m                   metadata_harmonization: \u001b[39mbool\u001b[39m \u001b[39m=\u001b[39m \u001b[39mTrue\u001b[39;00m) \u001b[39m-\u001b[39m\u001b[39m>\u001b[39m Generator[Spectrum, \u001b[39mNone\u001b[39;00m, \u001b[39mNone\u001b[39;00m]:\n\u001b[0;32m     10\u001b[0m \u001b[39m    \u001b[39m\u001b[39m\"\"\"Load spectrum(s) from mgf file.\u001b[39;00m\n\u001b[0;32m     11\u001b[0m \n\u001b[0;32m     12\u001b[0m \u001b[39m    This function will create ~matchms.Spectrum for every spectrum in the given\u001b[39;00m\n\u001b[1;32m   (...)\u001b[0m\n\u001b[0;32m     35\u001b[0m \u001b[39m        The default is True.\u001b[39;00m\n\u001b[0;32m     36\u001b[0m \u001b[39m    \"\"\"\u001b[39;00m\n\u001b[1;32m---> 38\u001b[0m     \u001b[39mfor\u001b[39;00m pyteomics_spectrum \u001b[39min\u001b[39;00m MGF(source, convert_arrays\u001b[39m=\u001b[39m\u001b[39m1\u001b[39m):\n\u001b[0;32m     40\u001b[0m         metadata \u001b[39m=\u001b[39m pyteomics_spectrum\u001b[39m.\u001b[39mget(\u001b[39m\"\u001b[39m\u001b[39mparams\u001b[39m\u001b[39m\"\u001b[39m, \u001b[39mNone\u001b[39;00m)\n\u001b[0;32m     41\u001b[0m         mz \u001b[39m=\u001b[39m pyteomics_spectrum[\u001b[39m\"\u001b[39m\u001b[39mm/z array\u001b[39m\u001b[39m\"\u001b[39m]\n",
      "File \u001b[1;32mc:\\Users\\aizardar\\anaconda3\\Lib\\site-packages\\pyteomics\\mgf.py:439\u001b[0m, in \u001b[0;36mMGF.__init__\u001b[1;34m(self, source, use_header, convert_arrays, read_charges, read_ions, dtype, encoding)\u001b[0m\n\u001b[0;32m    394\u001b[0m \u001b[39mdef\u001b[39;00m \u001b[39m__init__\u001b[39m(\u001b[39mself\u001b[39m, source\u001b[39m=\u001b[39m\u001b[39mNone\u001b[39;00m, use_header\u001b[39m=\u001b[39m\u001b[39mTrue\u001b[39;00m, convert_arrays\u001b[39m=\u001b[39m\u001b[39m2\u001b[39m, read_charges\u001b[39m=\u001b[39m\u001b[39mTrue\u001b[39;00m,\n\u001b[0;32m    395\u001b[0m         read_ions\u001b[39m=\u001b[39m\u001b[39mFalse\u001b[39;00m, dtype\u001b[39m=\u001b[39m\u001b[39mNone\u001b[39;00m, encoding\u001b[39m=\u001b[39m\u001b[39mNone\u001b[39;00m):\n\u001b[0;32m    396\u001b[0m \u001b[39m    \u001b[39m\u001b[39m\"\"\"\u001b[39;00m\n\u001b[0;32m    397\u001b[0m \u001b[39m    Create an :py:class:`MGF` (text-mode) reader for a given MGF file.\u001b[39;00m\n\u001b[0;32m    398\u001b[0m \n\u001b[1;32m   (...)\u001b[0m\n\u001b[0;32m    437\u001b[0m \u001b[39m        The reader object.\u001b[39;00m\n\u001b[0;32m    438\u001b[0m \u001b[39m    \"\"\"\u001b[39;00m\n\u001b[1;32m--> 439\u001b[0m     \u001b[39msuper\u001b[39m(MGF, \u001b[39mself\u001b[39m)\u001b[39m.\u001b[39m\u001b[39m__init__\u001b[39m(source, mode\u001b[39m=\u001b[39m\u001b[39m'\u001b[39m\u001b[39mr\u001b[39m\u001b[39m'\u001b[39m, parser_func\u001b[39m=\u001b[39m\u001b[39mself\u001b[39m\u001b[39m.\u001b[39m_read, pass_file\u001b[39m=\u001b[39m\u001b[39mFalse\u001b[39;00m, args\u001b[39m=\u001b[39m(), kwargs\u001b[39m=\u001b[39m{},\n\u001b[0;32m    440\u001b[0m         encoding\u001b[39m=\u001b[39mencoding, use_header\u001b[39m=\u001b[39muse_header, convert_arrays\u001b[39m=\u001b[39mconvert_arrays, read_charges\u001b[39m=\u001b[39mread_charges,\n\u001b[0;32m    441\u001b[0m         read_ions\u001b[39m=\u001b[39mread_ions, dtype\u001b[39m=\u001b[39mdtype)\n",
      "File \u001b[1;32mc:\\Users\\aizardar\\anaconda3\\Lib\\site-packages\\pyteomics\\mgf.py:122\u001b[0m, in \u001b[0;36mMGFBase.__init__\u001b[1;34m(self, source, **kwargs)\u001b[0m\n\u001b[0;32m     86\u001b[0m \u001b[39mdef\u001b[39;00m \u001b[39m__init__\u001b[39m(\u001b[39mself\u001b[39m, source\u001b[39m=\u001b[39m\u001b[39mNone\u001b[39;00m, \u001b[39m*\u001b[39m\u001b[39m*\u001b[39mkwargs):\n\u001b[0;32m     87\u001b[0m \u001b[39m    \u001b[39m\u001b[39m\"\"\"Create an MGF file object, set MGF-specific parameters.\u001b[39;00m\n\u001b[0;32m     88\u001b[0m \n\u001b[0;32m     89\u001b[0m \u001b[39m    Parameters\u001b[39;00m\n\u001b[1;32m   (...)\u001b[0m\n\u001b[0;32m    119\u001b[0m \u001b[39m        File encoding.\u001b[39;00m\n\u001b[0;32m    120\u001b[0m \u001b[39m    \"\"\"\u001b[39;00m\n\u001b[1;32m--> 122\u001b[0m     \u001b[39msuper\u001b[39m(MGFBase, \u001b[39mself\u001b[39m)\u001b[39m.\u001b[39m\u001b[39m__init__\u001b[39m(source, \u001b[39m*\u001b[39m\u001b[39m*\u001b[39mkwargs)\n\u001b[0;32m    123\u001b[0m     \u001b[39mself\u001b[39m\u001b[39m.\u001b[39m_use_header \u001b[39m=\u001b[39m kwargs\u001b[39m.\u001b[39mpop(\u001b[39m'\u001b[39m\u001b[39muse_header\u001b[39m\u001b[39m'\u001b[39m, \u001b[39mTrue\u001b[39;00m)\n\u001b[0;32m    124\u001b[0m     \u001b[39mself\u001b[39m\u001b[39m.\u001b[39m_read_charges \u001b[39m=\u001b[39m kwargs\u001b[39m.\u001b[39mpop(\u001b[39m'\u001b[39m\u001b[39mread_charges\u001b[39m\u001b[39m'\u001b[39m, \u001b[39mTrue\u001b[39;00m)\n",
      "File \u001b[1;32mc:\\Users\\aizardar\\anaconda3\\Lib\\site-packages\\pyteomics\\auxiliary\\utils.py:175\u001b[0m, in \u001b[0;36mMaskedArrayConversionMixin.__init__\u001b[1;34m(self, *args, **kwargs)\u001b[0m\n\u001b[0;32m    173\u001b[0m \u001b[39mself\u001b[39m\u001b[39m.\u001b[39m_convert_arrays \u001b[39m=\u001b[39m kwargs\u001b[39m.\u001b[39mpop(\u001b[39m'\u001b[39m\u001b[39mconvert_arrays\u001b[39m\u001b[39m'\u001b[39m, \u001b[39m2\u001b[39m)\n\u001b[0;32m    174\u001b[0m kwargs[\u001b[39m'\u001b[39m\u001b[39mconvert_arrays\u001b[39m\u001b[39m'\u001b[39m] \u001b[39m=\u001b[39m \u001b[39mself\u001b[39m\u001b[39m.\u001b[39m_convert_arrays\n\u001b[1;32m--> 175\u001b[0m \u001b[39msuper\u001b[39m(MaskedArrayConversionMixin, \u001b[39mself\u001b[39m)\u001b[39m.\u001b[39m\u001b[39m__init__\u001b[39m(\u001b[39m*\u001b[39margs, \u001b[39m*\u001b[39m\u001b[39m*\u001b[39mkwargs)\n",
      "File \u001b[1;32mc:\\Users\\aizardar\\anaconda3\\Lib\\site-packages\\pyteomics\\auxiliary\\utils.py:136\u001b[0m, in \u001b[0;36mArrayConversionMixin.__init__\u001b[1;34m(self, *args, **kwargs)\u001b[0m\n\u001b[0;32m    134\u001b[0m \u001b[39mif\u001b[39;00m \u001b[39mself\u001b[39m\u001b[39m.\u001b[39m_convert_arrays \u001b[39mand\u001b[39;00m np \u001b[39mis\u001b[39;00m \u001b[39mNone\u001b[39;00m:\n\u001b[0;32m    135\u001b[0m     \u001b[39mraise\u001b[39;00m PyteomicsError(\u001b[39m'\u001b[39m\u001b[39mnumpy is required for array conversion\u001b[39m\u001b[39m'\u001b[39m)\n\u001b[1;32m--> 136\u001b[0m \u001b[39msuper\u001b[39m(ArrayConversionMixin, \u001b[39mself\u001b[39m)\u001b[39m.\u001b[39m\u001b[39m__init__\u001b[39m(\u001b[39m*\u001b[39margs, \u001b[39m*\u001b[39m\u001b[39m*\u001b[39mkwargs)\n",
      "File \u001b[1;32mc:\\Users\\aizardar\\anaconda3\\Lib\\site-packages\\pyteomics\\auxiliary\\file_helpers.py:199\u001b[0m, in \u001b[0;36mFileReader.__init__\u001b[1;34m(self, source, **kwargs)\u001b[0m\n\u001b[0;32m    197\u001b[0m \u001b[39mself\u001b[39m\u001b[39m.\u001b[39m_mode \u001b[39m=\u001b[39m kwargs[\u001b[39m'\u001b[39m\u001b[39mmode\u001b[39m\u001b[39m'\u001b[39m]\n\u001b[0;32m    198\u001b[0m \u001b[39mself\u001b[39m\u001b[39m.\u001b[39m_encoding \u001b[39m=\u001b[39m kwargs\u001b[39m.\u001b[39mget(\u001b[39m'\u001b[39m\u001b[39mencoding\u001b[39m\u001b[39m'\u001b[39m)\n\u001b[1;32m--> 199\u001b[0m \u001b[39mself\u001b[39m\u001b[39m.\u001b[39mreset()\n",
      "File \u001b[1;32mc:\\Users\\aizardar\\anaconda3\\Lib\\site-packages\\pyteomics\\auxiliary\\file_helpers.py:204\u001b[0m, in \u001b[0;36mFileReader.reset\u001b[1;34m(self)\u001b[0m\n\u001b[0;32m    202\u001b[0m \u001b[39mif\u001b[39;00m \u001b[39mhasattr\u001b[39m(\u001b[39mself\u001b[39m, \u001b[39m'\u001b[39m\u001b[39m_source\u001b[39m\u001b[39m'\u001b[39m):\n\u001b[0;32m    203\u001b[0m     \u001b[39mself\u001b[39m\u001b[39m.\u001b[39m_source\u001b[39m.\u001b[39m\u001b[39m__exit__\u001b[39m(\u001b[39mNone\u001b[39;00m, \u001b[39mNone\u001b[39;00m, \u001b[39mNone\u001b[39;00m)\n\u001b[1;32m--> 204\u001b[0m \u001b[39mself\u001b[39m\u001b[39m.\u001b[39m_source \u001b[39m=\u001b[39m _file_obj(\u001b[39mself\u001b[39m\u001b[39m.\u001b[39m_source_init, \u001b[39mself\u001b[39m\u001b[39m.\u001b[39m_mode, \u001b[39mself\u001b[39m\u001b[39m.\u001b[39m_encoding)\n\u001b[0;32m    205\u001b[0m \u001b[39mtry\u001b[39;00m:\n\u001b[0;32m    206\u001b[0m     \u001b[39mif\u001b[39;00m \u001b[39mself\u001b[39m\u001b[39m.\u001b[39m_pass_file:\n",
      "File \u001b[1;32mc:\\Users\\aizardar\\anaconda3\\Lib\\site-packages\\pyteomics\\auxiliary\\file_helpers.py:102\u001b[0m, in \u001b[0;36m_file_obj.__init__\u001b[1;34m(self, f, mode, encoding)\u001b[0m\n\u001b[0;32m    100\u001b[0m     \u001b[39mself\u001b[39m\u001b[39m.\u001b[39m_file_spec \u001b[39m=\u001b[39m \u001b[39mNone\u001b[39;00m\n\u001b[0;32m    101\u001b[0m \u001b[39melif\u001b[39;00m \u001b[39misinstance\u001b[39m(f, basestring):\n\u001b[1;32m--> 102\u001b[0m     \u001b[39mself\u001b[39m\u001b[39m.\u001b[39mfile \u001b[39m=\u001b[39m codecs\u001b[39m.\u001b[39mopen(f, mode, encoding)\n\u001b[0;32m    103\u001b[0m     \u001b[39mself\u001b[39m\u001b[39m.\u001b[39m_file_spec \u001b[39m=\u001b[39m f\n\u001b[0;32m    104\u001b[0m \u001b[39melse\u001b[39;00m:\n",
      "File \u001b[1;32m<frozen codecs>:906\u001b[0m, in \u001b[0;36mopen\u001b[1;34m(filename, mode, encoding, errors, buffering)\u001b[0m\n",
      "\u001b[1;31mFileNotFoundError\u001b[0m: [Errno 2] No such file or directory: '...\\\\GNPS-NIH-NATURALPRODUCTSLIBRARY.mgf'"
     ]
    }
   ],
   "source": [
    "import os\n",
    "from matchms.importing import load_from_mgf\n",
    "path_data = \"...\"  # enter path to downloaded mgf file\n",
    "file_mgf = os.path.join(path_data, \n",
    "                        \"GNPS-NIH-NATURALPRODUCTSLIBRARY.mgf\")\n",
    "spectrums = list(load_from_mgf(file_mgf))"
   ]
  },
  {
   "cell_type": "code",
   "execution_count": null,
   "metadata": {},
   "outputs": [],
   "source": []
  }
 ],
 "metadata": {
  "kernelspec": {
   "display_name": "Python 3",
   "language": "python",
   "name": "python3"
  },
  "language_info": {
   "codemirror_mode": {
    "name": "ipython",
    "version": 3
   },
   "file_extension": ".py",
   "mimetype": "text/x-python",
   "name": "python",
   "nbconvert_exporter": "python",
   "pygments_lexer": "ipython3",
   "version": "3.11.5"
  }
 },
 "nbformat": 4,
 "nbformat_minor": 2
}
